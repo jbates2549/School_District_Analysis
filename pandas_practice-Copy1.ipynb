{
 "cells": [
  {
   "cell_type": "code",
   "execution_count": null,
   "metadata": {},
   "outputs": [],
   "source": []
  },
  {
   "cell_type": "code",
   "execution_count": 41,
   "metadata": {
    "scrolled": true
   },
   "outputs": [
    {
     "name": "stdout",
     "output_type": "stream",
     "text": [
      "High school Griffin is type District\n",
      "High school Figueroa is type District\n",
      "High school Wilson is type Charter\n",
      "High school Wright is type Charter\n"
     ]
    }
   ],
   "source": [
    "import pandas as pd\n",
    "\n",
    "# A dictionary of high schools and the type of school.\n",
    "#high_school_list = [{\"High School\": \"Griffin\", \"Type\":\"District\"},\n",
    "#                    {\"High School\": \"Figueroa\", \"Type\": \"District\"},\n",
    "#                    {\"High School\": \"Wilson\", \"Type\": \"Charter\"},\n",
    "#                    {\"High School\": \"Wright\", \"Type\": \"Charter\"}]\n",
    "\n",
    "\n",
    "high_school_list = pd.DataFrame({\n",
    "    \"High School\":[\"Griffin\",\"Figueroa\",\"Wilson\",\"Wright\"],\n",
    "    \"Type\":['District','District','Charter','Charter']})\n",
    "    \n",
    "\n",
    "# printing out our desired statement\n",
    "for index in high_school_list.index:\n",
    "    print(f'High school {high_school_list[\"High School\"][index]} is type {high_school_list[\"Type\"][index]}')    \n",
    "    \n",
    "    \n",
    "#print(high_school_types[\"High School\"])\n",
    "\n",
    "#for School in {\"High School\"}():\n",
    "\n",
    "\n",
    "    \n",
    "    \n",
    "#HSchool_dict = {\"Griffin\": \"District\", \"Figueroa\":\"District\", \"Wilson\": \"Charter\"}\n",
    "\n",
    "#for School, District in HSchool_dict():\n",
    "#    print(f\"{School} High School is type {District}\")\n",
    "    \n",
    "    \n",
    "    \n",
    "#for HS_dict in high_school_types:\n",
    "#    for value in HS_dict.values():\n",
    "#        print (value)\n",
    "        \n",
    "#for HS_dict in high_school_types:\n",
    "#    for value in HS_dict.values():\n",
    "#        print (value)\n",
    "        \n",
    "#for HS_dict in high_school_types:\n",
    "#    print (HS_dict['High School'])\n",
    "\n",
    " \n",
    "##for HS, Type in HSchool_dict.items():\n",
    "##    print(f\"{HS} high school is type {Type}\")\n",
    "    "
   ]
  },
  {
   "cell_type": "code",
   "execution_count": 31,
   "metadata": {},
   "outputs": [
    {
     "name": "stdout",
     "output_type": "stream",
     "text": [
      "Gino Walker has trainer Bettyann Savory\n",
      "Hiedi Wasser has trainer Mariah Barberio\n",
      "Kerrie Wetzel has trainer Gordon Perrine\n",
      "Elizabeth Sackett has trainer Pa Dargan\n"
     ]
    }
   ],
   "source": [
    "import pandas as pd\n",
    "# A DataFrame of individuals' names, their trainers, their weight, and their days as gym members\n",
    "training_data = pd.DataFrame({\n",
    "    \"Name\":[\"Gino Walker\",\"Hiedi Wasser\",\"Kerrie Wetzel\",\"Elizabeth Sackett\"],\n",
    "    \"Trainer\":['Bettyann Savory','Mariah Barberio','Gordon Perrine','Pa Dargan'],\n",
    "    \"Weight\":[128,180,193,177],\n",
    "    \"Membership(Days)\":[52,70,148,124]})\n",
    "\n",
    "# printing out our desired statement\n",
    "for index in training_data.index:\n",
    "    print(f'{training_data[\"Name\"][index]} has trainer {training_data[\"Trainer\"][index]}')"
   ]
  },
  {
   "cell_type": "code",
   "execution_count": null,
   "metadata": {},
   "outputs": [],
   "source": []
  },
  {
   "cell_type": "code",
   "execution_count": 5,
   "metadata": {},
   "outputs": [],
   "source": [
    "#counties_dict = {\"Arapahoe\": 369237, \"Denver\":413229, \"Jefferson\": 390222}\n",
    "#for county, voters in counties_dict.items():\n",
    "#    print(county + \" county has \" + str(voters) + \" registered voters.\")"
   ]
  },
  {
   "cell_type": "code",
   "execution_count": 62,
   "metadata": {},
   "outputs": [
    {
     "name": "stdout",
     "output_type": "stream",
     "text": [
      "Arapahoe county has 369237 registered voters.\n",
      "Denver county has 413229 registered voters.\n",
      "Jefferson county has 390222 registered voters.\n"
     ]
    }
   ],
   "source": [
    "voting_data = [{\"county\":\"Arapahoe\", \"registered_voters\": 422829},\n",
    "                {\"county\":\"Denver\", \"registered_voters\": 463353},\n",
    "                {\"county\":\"Jefferson\", \"registered_voters\": 432438}]\n",
    "\n",
    "#print dictionary\n",
    "#for county_dict in voting_data:\n",
    "#    print(county_dict)\n",
    "\n",
    "#print values using nested loop     \n",
    "#for county_dict in voting_data:\n",
    "#    for value in county_dict.values():\n",
    "#        print(value)\n",
    "        \n",
    "#print only first dictionary items\n",
    "#for county_dict in voting_data:\n",
    "#    print(county_dict['county'])\n",
    "    \n",
    "#using f print    \n",
    "for county, voters in counties_dict.items():\n",
    "    print(f\"{county} county has {voters} registered voters.\")    "
   ]
  },
  {
   "cell_type": "code",
   "execution_count": 2,
   "metadata": {},
   "outputs": [],
   "source": [
    "# List of high schools\n",
    "high_schools = [\"Huang High School\",  \"Figueroa High School\", \"Shelton High School\", \"Hernandez High School\",\"Griffin High School\",\"Wilson High School\", \"Cabrera High School\", \"Bailey High School\", \"Holden High School\", \"Pena High School\", \"Wright High School\",\"Rodriguez High School\", \"Johnson High School\", \"Ford High School\", \"Thomas High School\"]"
   ]
  },
  {
   "cell_type": "code",
   "execution_count": 4,
   "metadata": {},
   "outputs": [
    {
     "data": {
      "text/plain": [
       "0         Huang High School\n",
       "1      Figueroa High School\n",
       "2       Shelton High School\n",
       "3     Hernandez High School\n",
       "4       Griffin High School\n",
       "5        Wilson High School\n",
       "6       Cabrera High School\n",
       "7        Bailey High School\n",
       "8        Holden High School\n",
       "9          Pena High School\n",
       "10       Wright High School\n",
       "11    Rodriguez High School\n",
       "12      Johnson High School\n",
       "13         Ford High School\n",
       "14       Thomas High School\n",
       "dtype: object"
      ]
     },
     "execution_count": 4,
     "metadata": {},
     "output_type": "execute_result"
    }
   ],
   "source": [
    "# Add the Pandas dependency.\n",
    "import pandas as pd\n",
    "# Create a Pandas Series from a list.\n",
    "school_series = pd.Series(high_schools)\n",
    "school_series\n",
    "\n",
    "\n"
   ]
  },
  {
   "cell_type": "code",
   "execution_count": null,
   "metadata": {},
   "outputs": [],
   "source": []
  },
  {
   "cell_type": "code",
   "execution_count": null,
   "metadata": {},
   "outputs": [],
   "source": []
  }
 ],
 "metadata": {
  "kernelspec": {
   "display_name": "PythonData",
   "language": "python",
   "name": "pythondata"
  },
  "language_info": {
   "codemirror_mode": {
    "name": "ipython",
    "version": 3
   },
   "file_extension": ".py",
   "mimetype": "text/x-python",
   "name": "python",
   "nbconvert_exporter": "python",
   "pygments_lexer": "ipython3",
   "version": "3.7.7"
  }
 },
 "nbformat": 4,
 "nbformat_minor": 4
}
